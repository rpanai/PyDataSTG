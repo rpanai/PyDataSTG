{
 "cells": [
  {
   "cell_type": "markdown",
   "metadata": {},
   "source": [
    "# Introduction\n",
    "\n",
    "## Who Am I?\n",
    "\n",
    "## What is Dask?\n",
    "Comparative with other libraries as \n",
    "\n",
    "* [Modin](https://github.com/modin-project/modin)\n",
    "* [Vaex](https://vaex.readthedocs.io/)\n",
    "* [Spark](https://spark.apache.org/)\n",
    "\n",
    "## Dask Cluster instead of [AWS lambda](https://aws.amazon.com/lambda/)\n",
    "Focus on costs\n"
   ]
  },
  {
   "cell_type": "markdown",
   "metadata": {},
   "source": [
    "# Environment\n",
    "\n",
    "## Load \n",
    "```bash\n",
    "conda env create -f env_environment.yml\n",
    "```\n",
    "\n",
    "## List of packages\n",
    "```bash\n",
    "conda create -n pydata_stg python=3.7 --channel conda-forge\n",
    "conda activate pydata_stg\n",
    "conda config --env --add channels conda-forge\n",
    "conda install dask\n",
    "conda install pyarrow\n",
    "conda install python-graphviz\n",
    "conda install holidays\n",
    "conda install ipykernel\n",
    "pip install d6tstack # make a conda package\n",
    "python -m ipykernel install --user --name pydata_stg\n",
    "```"
   ]
  },
  {
   "cell_type": "markdown",
   "metadata": {},
   "source": [
    "# Examples\n",
    "\n",
    "* [holidays](https://stackoverflow.com/questions/56106470/how-to-add-column-in-dask-dataframe-that-reflecs-whether-date-value-from-column/56114344#56114344)\n",
    "* [np.deg2rad](https://stackoverflow.com/questions/52295301/parallel-computation-with-dask-when-dataframe-column-needs-to-be-computed/52303939#52303939)           "
   ]
  },
  {
   "cell_type": "markdown",
   "metadata": {},
   "source": [
    "# Parallelize computation"
   ]
  },
  {
   "cell_type": "markdown",
   "metadata": {},
   "source": [
    "## `multiprocessing`"
   ]
  },
  {
   "cell_type": "code",
   "execution_count": 1,
   "metadata": {},
   "outputs": [],
   "source": [
    "import time\n",
    "import multiprocessing as mp\n",
    "\n",
    "\n",
    "def parallelize(fun, vec, cores=mp.cpu_count()):\n",
    "    with mp.Pool(cores) as p:\n",
    "        res = p.map(fun, vec)\n",
    "    return res\n",
    "\n",
    "\n",
    "def parallelize_multi(fun, vec, cores=mp.cpu_count()):\n",
    "    with mp.Pool(processes=cores) as p:\n",
    "        res = p.starmap(fun, vec)\n",
    "    return res"
   ]
  },
  {
   "cell_type": "code",
   "execution_count": 2,
   "metadata": {},
   "outputs": [],
   "source": [
    "def fun1(x):\n",
    "    time.sleep(1)\n",
    "    return x\n",
    "\n",
    "\n",
    "def fun2(x, y):\n",
    "    time.sleep(1)\n",
    "    return x+y\n",
    "\n",
    "\n",
    "def fun2_1(x):\n",
    "    time.sleep(1)\n",
    "    return x[0]+x[1]"
   ]
  },
  {
   "cell_type": "code",
   "execution_count": 3,
   "metadata": {},
   "outputs": [
    {
     "name": "stdout",
     "output_type": "stream",
     "text": [
      "8\n"
     ]
    }
   ],
   "source": [
    "cores = mp.cpu_count()\n",
    "vec1 = list(range(2*cores))\n",
    "vec2 = [(v, 2) for v in vec1]\n",
    "print(len(vec1))"
   ]
  },
  {
   "cell_type": "code",
   "execution_count": 4,
   "metadata": {},
   "outputs": [
    {
     "name": "stdout",
     "output_type": "stream",
     "text": [
      "CPU times: user 2.15 ms, sys: 272 µs, total: 2.42 ms\n",
      "Wall time: 8.01 s\n"
     ]
    }
   ],
   "source": [
    "%%time\n",
    "out1 = [fun1(v) for v in vec1]"
   ]
  },
  {
   "cell_type": "code",
   "execution_count": 5,
   "metadata": {},
   "outputs": [
    {
     "data": {
      "text/plain": [
       "[0, 1, 2, 3, 4, 5, 6, 7]"
      ]
     },
     "execution_count": 5,
     "metadata": {},
     "output_type": "execute_result"
    }
   ],
   "source": [
    "out1"
   ]
  },
  {
   "cell_type": "code",
   "execution_count": 6,
   "metadata": {},
   "outputs": [
    {
     "name": "stdout",
     "output_type": "stream",
     "text": [
      "CPU times: user 2.18 ms, sys: 126 µs, total: 2.3 ms\n",
      "Wall time: 8.01 s\n"
     ]
    }
   ],
   "source": [
    "%%time\n",
    "out2 = [fun2(v[0],v[1]) for v in vec2]"
   ]
  },
  {
   "cell_type": "code",
   "execution_count": 7,
   "metadata": {},
   "outputs": [
    {
     "data": {
      "text/plain": [
       "[2, 3, 4, 5, 6, 7, 8, 9]"
      ]
     },
     "execution_count": 7,
     "metadata": {},
     "output_type": "execute_result"
    }
   ],
   "source": [
    "out2"
   ]
  },
  {
   "cell_type": "code",
   "execution_count": 8,
   "metadata": {},
   "outputs": [
    {
     "name": "stdout",
     "output_type": "stream",
     "text": [
      "CPU times: user 24.8 ms, sys: 4.11 ms, total: 28.9 ms\n",
      "Wall time: 2.14 s\n"
     ]
    }
   ],
   "source": [
    "%%time\n",
    "out1 = parallelize(fun1, vec1)"
   ]
  },
  {
   "cell_type": "code",
   "execution_count": 9,
   "metadata": {},
   "outputs": [
    {
     "data": {
      "text/plain": [
       "[0, 1, 2, 3, 4, 5, 6, 7]"
      ]
     },
     "execution_count": 9,
     "metadata": {},
     "output_type": "execute_result"
    }
   ],
   "source": [
    "out1"
   ]
  },
  {
   "cell_type": "code",
   "execution_count": 10,
   "metadata": {},
   "outputs": [
    {
     "name": "stdout",
     "output_type": "stream",
     "text": [
      "CPU times: user 2.25 ms, sys: 20.7 ms, total: 22.9 ms\n",
      "Wall time: 2.03 s\n"
     ]
    }
   ],
   "source": [
    "%%time\n",
    "out2 = parallelize_multi(fun2, vec2)"
   ]
  },
  {
   "cell_type": "code",
   "execution_count": 11,
   "metadata": {},
   "outputs": [
    {
     "data": {
      "text/plain": [
       "[2, 3, 4, 5, 6, 7, 8, 9]"
      ]
     },
     "execution_count": 11,
     "metadata": {},
     "output_type": "execute_result"
    }
   ],
   "source": [
    "out2"
   ]
  },
  {
   "cell_type": "code",
   "execution_count": 12,
   "metadata": {},
   "outputs": [
    {
     "name": "stdout",
     "output_type": "stream",
     "text": [
      "CPU times: user 5.45 ms, sys: 20 ms, total: 25.5 ms\n",
      "Wall time: 2.13 s\n"
     ]
    }
   ],
   "source": [
    "%%time\n",
    "out2 = parallelize(fun2_1, vec2)"
   ]
  },
  {
   "cell_type": "code",
   "execution_count": 13,
   "metadata": {},
   "outputs": [
    {
     "data": {
      "text/plain": [
       "[2, 3, 4, 5, 6, 7, 8, 9]"
      ]
     },
     "execution_count": 13,
     "metadata": {},
     "output_type": "execute_result"
    }
   ],
   "source": [
    "out2"
   ]
  },
  {
   "cell_type": "markdown",
   "metadata": {},
   "source": [
    "## `dask.delayed`"
   ]
  },
  {
   "cell_type": "code",
   "execution_count": 14,
   "metadata": {},
   "outputs": [],
   "source": [
    "from dask import delayed, compute"
   ]
  },
  {
   "cell_type": "code",
   "execution_count": 15,
   "metadata": {},
   "outputs": [
    {
     "name": "stdout",
     "output_type": "stream",
     "text": [
      "CPU times: user 2.46 ms, sys: 364 µs, total: 2.83 ms\n",
      "Wall time: 1.92 ms\n"
     ]
    }
   ],
   "source": [
    "%%time\n",
    "to_process1 = [delayed(fun1)(v) for v in vec1]"
   ]
  },
  {
   "cell_type": "code",
   "execution_count": 16,
   "metadata": {},
   "outputs": [
    {
     "data": {
      "text/plain": [
       "[Delayed('fun1-bb177a32-3a3f-4e1d-9047-0d892a3cc455'),\n",
       " Delayed('fun1-3aa0f565-d22b-4175-8023-62f2122911e6'),\n",
       " Delayed('fun1-c6b1c0fc-f4bd-47d3-bcc4-da1191f973e2'),\n",
       " Delayed('fun1-66ef833f-f396-4dab-9b1d-c259025437cf'),\n",
       " Delayed('fun1-fb68a7cb-f52f-4906-8d59-ccd806e4bfbe'),\n",
       " Delayed('fun1-b31ef3a2-fb0b-4167-8090-8001974b3f3d'),\n",
       " Delayed('fun1-66a52480-e876-465f-980f-9e6815051290'),\n",
       " Delayed('fun1-2c79d6c7-5c44-48eb-a876-1c2acb59913b')]"
      ]
     },
     "execution_count": 16,
     "metadata": {},
     "output_type": "execute_result"
    }
   ],
   "source": [
    "to_process1"
   ]
  },
  {
   "cell_type": "code",
   "execution_count": 17,
   "metadata": {},
   "outputs": [
    {
     "name": "stdout",
     "output_type": "stream",
     "text": [
      "CPU times: user 15 ms, sys: 411 µs, total: 15.4 ms\n",
      "Wall time: 2.05 s\n"
     ]
    }
   ],
   "source": [
    "%%time\n",
    "to_process1 = [delayed(fun1)(v) for v in vec1]\n",
    "out1 = compute(to_process1)"
   ]
  },
  {
   "cell_type": "code",
   "execution_count": 18,
   "metadata": {},
   "outputs": [
    {
     "data": {
      "text/plain": [
       "([0, 1, 2, 3, 4, 5, 6, 7],)"
      ]
     },
     "execution_count": 18,
     "metadata": {},
     "output_type": "execute_result"
    }
   ],
   "source": [
    "out1"
   ]
  },
  {
   "cell_type": "code",
   "execution_count": 19,
   "metadata": {},
   "outputs": [
    {
     "name": "stdout",
     "output_type": "stream",
     "text": [
      "CPU times: user 11 ms, sys: 407 µs, total: 11.4 ms\n",
      "Wall time: 2.01 s\n"
     ]
    }
   ],
   "source": [
    "%%time\n",
    "to_process2 = [delayed(fun2)(v[0],v[1]) for v in vec2]\n",
    "out2 = compute(to_process2)"
   ]
  },
  {
   "cell_type": "code",
   "execution_count": 20,
   "metadata": {},
   "outputs": [
    {
     "data": {
      "text/plain": [
       "([2, 3, 4, 5, 6, 7, 8, 9],)"
      ]
     },
     "execution_count": 20,
     "metadata": {},
     "output_type": "execute_result"
    }
   ],
   "source": [
    "out2"
   ]
  },
  {
   "cell_type": "markdown",
   "metadata": {},
   "source": [
    "Example using decorator `@delayed`.\n",
    "\n",
    "\n",
    "This can eventually run on a cluster!"
   ]
  },
  {
   "cell_type": "markdown",
   "metadata": {},
   "source": [
    "# Dataframes"
   ]
  },
  {
   "cell_type": "markdown",
   "metadata": {},
   "source": [
    "## Generate dummy dataset"
   ]
  },
  {
   "cell_type": "code",
   "execution_count": 1,
   "metadata": {},
   "outputs": [
    {
     "data": {
      "text/html": [
       "<table style=\"border: 2px solid white;\">\n",
       "<tr>\n",
       "<td style=\"vertical-align: top; border: 0px solid white\">\n",
       "<h3 style=\"text-align: left;\">Client</h3>\n",
       "<ul style=\"text-align: left; list-style: none; margin: 0; padding: 0;\">\n",
       "  <li><b>Scheduler: </b>tcp://127.0.0.1:44089</li>\n",
       "  <li><b>Dashboard: </b><a href='http://127.0.0.1:8787/status' target='_blank'>http://127.0.0.1:8787/status</a>\n",
       "</ul>\n",
       "</td>\n",
       "<td style=\"vertical-align: top; border: 0px solid white\">\n",
       "<h3 style=\"text-align: left;\">Cluster</h3>\n",
       "<ul style=\"text-align: left; list-style:none; margin: 0; padding: 0;\">\n",
       "  <li><b>Workers: </b>4</li>\n",
       "  <li><b>Cores: </b>4</li>\n",
       "  <li><b>Memory: </b>16.52 GB</li>\n",
       "</ul>\n",
       "</td>\n",
       "</tr>\n",
       "</table>"
      ],
      "text/plain": [
       "<Client: 'tcp://127.0.0.1:44089' processes=4 threads=4, memory=16.52 GB>"
      ]
     },
     "execution_count": 1,
     "metadata": {},
     "output_type": "execute_result"
    }
   ],
   "source": [
    "import numpy as np\n",
    "import os\n",
    "import pandas as pd\n",
    "import shutil\n",
    "import dask.dataframe as dd\n",
    "from dask import delayed, compute\n",
    "from dask.distributed import Client\n",
    "client = Client()\n",
    "client"
   ]
  },
  {
   "cell_type": "code",
   "execution_count": 2,
   "metadata": {},
   "outputs": [],
   "source": [
    "fldr_raw = \"datasets/dummy/raw\"\n",
    "os.makedirs(fldr_raw, exist_ok=True)"
   ]
  },
  {
   "cell_type": "code",
   "execution_count": 3,
   "metadata": {},
   "outputs": [],
   "source": [
    "def generate_df(n, N):\n",
    "    df = pd.DataFrame({\"id\":np.random.randint(10,100,N),\n",
    "                       \"value\":np.random.rand(N),\n",
    "                       \"lat\":np.random.uniform(low=-90, high=90, size=N),\n",
    "                       \"lon\":np.random.uniform(low=-180, high=180,size=N)})\n",
    "    df[\"value1\"] = df[\"id\"]*df[\"value\"]\n",
    "    fn = f'{fldr_raw}/file_{n:02d}.csv'\n",
    "    df.to_csv(fn, index=False)"
   ]
  },
  {
   "cell_type": "code",
   "execution_count": 4,
   "metadata": {},
   "outputs": [],
   "source": [
    "N = int(1e6)"
   ]
  },
  {
   "cell_type": "code",
   "execution_count": 5,
   "metadata": {},
   "outputs": [
    {
     "name": "stdout",
     "output_type": "stream",
     "text": [
      "CPU times: user 10.5 s, sys: 482 ms, total: 11 s\n",
      "Wall time: 10.8 s\n"
     ]
    }
   ],
   "source": [
    "%%time\n",
    "generate_df(1,N)"
   ]
  },
  {
   "cell_type": "code",
   "execution_count": 6,
   "metadata": {},
   "outputs": [],
   "source": [
    "@delayed\n",
    "def generate_df(n, N):\n",
    "    df = pd.DataFrame({\"id\":np.random.randint(10,100,N),\n",
    "                       \"value\":np.random.rand(N),\n",
    "                       \"lat\":np.random.uniform(low=-90, high=90, size=N),\n",
    "                       \"lon\":np.random.uniform(low=-180, high=180,size=N)})\n",
    "    df[\"value1\"] = df[\"id\"]*df[\"value\"]\n",
    "    fn = f'{fldr_raw}/file_{n:02d}.csv'\n",
    "    df.to_csv(fn, index=False)"
   ]
  },
  {
   "cell_type": "code",
   "execution_count": 8,
   "metadata": {},
   "outputs": [],
   "source": [
    "shutil.rmtree(fldr_raw)\n",
    "os.makedirs(fldr_raw, exist_ok=True)"
   ]
  },
  {
   "cell_type": "code",
   "execution_count": 9,
   "metadata": {},
   "outputs": [
    {
     "name": "stdout",
     "output_type": "stream",
     "text": [
      "CPU times: user 6.31 s, sys: 823 ms, total: 7.13 s\n",
      "Wall time: 1min 41s\n"
     ]
    }
   ],
   "source": [
    "%%time\n",
    "to_process = [generate_df(i, N) for i in range(20)]\n",
    "out = compute(to_process)"
   ]
  },
  {
   "cell_type": "markdown",
   "metadata": {},
   "source": [
    "## Read"
   ]
  },
  {
   "cell_type": "code",
   "execution_count": 10,
   "metadata": {},
   "outputs": [
    {
     "data": {
      "text/html": [
       "<table style=\"border: 2px solid white;\">\n",
       "<tr>\n",
       "<td style=\"vertical-align: top; border: 0px solid white\">\n",
       "<h3 style=\"text-align: left;\">Client</h3>\n",
       "<ul style=\"text-align: left; list-style: none; margin: 0; padding: 0;\">\n",
       "  <li><b>Scheduler: </b>tcp://127.0.0.1:39015</li>\n",
       "  <li><b>Dashboard: </b><a href='http://127.0.0.1:8787/status' target='_blank'>http://127.0.0.1:8787/status</a>\n",
       "</ul>\n",
       "</td>\n",
       "<td style=\"vertical-align: top; border: 0px solid white\">\n",
       "<h3 style=\"text-align: left;\">Cluster</h3>\n",
       "<ul style=\"text-align: left; list-style:none; margin: 0; padding: 0;\">\n",
       "  <li><b>Workers: </b>4</li>\n",
       "  <li><b>Cores: </b>4</li>\n",
       "  <li><b>Memory: </b>16.52 GB</li>\n",
       "</ul>\n",
       "</td>\n",
       "</tr>\n",
       "</table>"
      ],
      "text/plain": [
       "<Client: 'tcp://127.0.0.1:39015' processes=0 threads=0, memory=0 B>"
      ]
     },
     "execution_count": 10,
     "metadata": {},
     "output_type": "execute_result"
    }
   ],
   "source": [
    "client.restart()"
   ]
  },
  {
   "cell_type": "code",
   "execution_count": 8,
   "metadata": {},
   "outputs": [],
   "source": [
    "df = dd.read_csv(\"datasets/dummy/raw/*.csv\")"
   ]
  },
  {
   "cell_type": "code",
   "execution_count": 9,
   "metadata": {},
   "outputs": [
    {
     "data": {
      "text/html": [
       "<div><strong>Dask DataFrame Structure:</strong></div>\n",
       "<div>\n",
       "<style scoped>\n",
       "    .dataframe tbody tr th:only-of-type {\n",
       "        vertical-align: middle;\n",
       "    }\n",
       "\n",
       "    .dataframe tbody tr th {\n",
       "        vertical-align: top;\n",
       "    }\n",
       "\n",
       "    .dataframe thead th {\n",
       "        text-align: right;\n",
       "    }\n",
       "</style>\n",
       "<table border=\"1\" class=\"dataframe\">\n",
       "  <thead>\n",
       "    <tr style=\"text-align: right;\">\n",
       "      <th></th>\n",
       "      <th>id</th>\n",
       "      <th>value</th>\n",
       "      <th>lat</th>\n",
       "      <th>lon</th>\n",
       "      <th>value1</th>\n",
       "    </tr>\n",
       "    <tr>\n",
       "      <th>npartitions=40</th>\n",
       "      <th></th>\n",
       "      <th></th>\n",
       "      <th></th>\n",
       "      <th></th>\n",
       "      <th></th>\n",
       "    </tr>\n",
       "  </thead>\n",
       "  <tbody>\n",
       "    <tr>\n",
       "      <th></th>\n",
       "      <td>int64</td>\n",
       "      <td>float64</td>\n",
       "      <td>float64</td>\n",
       "      <td>float64</td>\n",
       "      <td>float64</td>\n",
       "    </tr>\n",
       "    <tr>\n",
       "      <th></th>\n",
       "      <td>...</td>\n",
       "      <td>...</td>\n",
       "      <td>...</td>\n",
       "      <td>...</td>\n",
       "      <td>...</td>\n",
       "    </tr>\n",
       "    <tr>\n",
       "      <th>...</th>\n",
       "      <td>...</td>\n",
       "      <td>...</td>\n",
       "      <td>...</td>\n",
       "      <td>...</td>\n",
       "      <td>...</td>\n",
       "    </tr>\n",
       "    <tr>\n",
       "      <th></th>\n",
       "      <td>...</td>\n",
       "      <td>...</td>\n",
       "      <td>...</td>\n",
       "      <td>...</td>\n",
       "      <td>...</td>\n",
       "    </tr>\n",
       "    <tr>\n",
       "      <th></th>\n",
       "      <td>...</td>\n",
       "      <td>...</td>\n",
       "      <td>...</td>\n",
       "      <td>...</td>\n",
       "      <td>...</td>\n",
       "    </tr>\n",
       "  </tbody>\n",
       "</table>\n",
       "</div>\n",
       "<div>Dask Name: from-delayed, 120 tasks</div>"
      ],
      "text/plain": [
       "Dask DataFrame Structure:\n",
       "                   id    value      lat      lon   value1\n",
       "npartitions=40                                           \n",
       "                int64  float64  float64  float64  float64\n",
       "                  ...      ...      ...      ...      ...\n",
       "...               ...      ...      ...      ...      ...\n",
       "                  ...      ...      ...      ...      ...\n",
       "                  ...      ...      ...      ...      ...\n",
       "Dask Name: from-delayed, 120 tasks"
      ]
     },
     "execution_count": 9,
     "metadata": {},
     "output_type": "execute_result"
    }
   ],
   "source": [
    "df"
   ]
  },
  {
   "cell_type": "code",
   "execution_count": 10,
   "metadata": {},
   "outputs": [
    {
     "data": {
      "text/html": [
       "<div>\n",
       "<style scoped>\n",
       "    .dataframe tbody tr th:only-of-type {\n",
       "        vertical-align: middle;\n",
       "    }\n",
       "\n",
       "    .dataframe tbody tr th {\n",
       "        vertical-align: top;\n",
       "    }\n",
       "\n",
       "    .dataframe thead th {\n",
       "        text-align: right;\n",
       "    }\n",
       "</style>\n",
       "<table border=\"1\" class=\"dataframe\">\n",
       "  <thead>\n",
       "    <tr style=\"text-align: right;\">\n",
       "      <th></th>\n",
       "      <th>id</th>\n",
       "      <th>value</th>\n",
       "      <th>lat</th>\n",
       "      <th>lon</th>\n",
       "      <th>value1</th>\n",
       "    </tr>\n",
       "  </thead>\n",
       "  <tbody>\n",
       "    <tr>\n",
       "      <th>0</th>\n",
       "      <td>80</td>\n",
       "      <td>0.772008</td>\n",
       "      <td>-34.769415</td>\n",
       "      <td>-172.250288</td>\n",
       "      <td>61.760662</td>\n",
       "    </tr>\n",
       "    <tr>\n",
       "      <th>1</th>\n",
       "      <td>85</td>\n",
       "      <td>0.227687</td>\n",
       "      <td>-36.786150</td>\n",
       "      <td>60.872459</td>\n",
       "      <td>19.353404</td>\n",
       "    </tr>\n",
       "    <tr>\n",
       "      <th>2</th>\n",
       "      <td>97</td>\n",
       "      <td>0.676615</td>\n",
       "      <td>74.933042</td>\n",
       "      <td>114.004453</td>\n",
       "      <td>65.631618</td>\n",
       "    </tr>\n",
       "    <tr>\n",
       "      <th>3</th>\n",
       "      <td>72</td>\n",
       "      <td>0.557655</td>\n",
       "      <td>15.397291</td>\n",
       "      <td>-21.091304</td>\n",
       "      <td>40.151161</td>\n",
       "    </tr>\n",
       "    <tr>\n",
       "      <th>4</th>\n",
       "      <td>14</td>\n",
       "      <td>0.196189</td>\n",
       "      <td>52.658036</td>\n",
       "      <td>-136.913529</td>\n",
       "      <td>2.746646</td>\n",
       "    </tr>\n",
       "  </tbody>\n",
       "</table>\n",
       "</div>"
      ],
      "text/plain": [
       "   id     value        lat         lon     value1\n",
       "0  80  0.772008 -34.769415 -172.250288  61.760662\n",
       "1  85  0.227687 -36.786150   60.872459  19.353404\n",
       "2  97  0.676615  74.933042  114.004453  65.631618\n",
       "3  72  0.557655  15.397291  -21.091304  40.151161\n",
       "4  14  0.196189  52.658036 -136.913529   2.746646"
      ]
     },
     "execution_count": 10,
     "metadata": {},
     "output_type": "execute_result"
    }
   ],
   "source": [
    "df.head()"
   ]
  },
  {
   "cell_type": "code",
   "execution_count": 11,
   "metadata": {},
   "outputs": [
    {
     "name": "stdout",
     "output_type": "stream",
     "text": [
      "CPU times: user 2.32 s, sys: 1.86 s, total: 4.18 s\n",
      "Wall time: 12.5 s\n"
     ]
    }
   ],
   "source": [
    "%%time\n",
    "df = df.compute()"
   ]
  },
  {
   "cell_type": "markdown",
   "metadata": {},
   "source": [
    "## Aggregations"
   ]
  },
  {
   "cell_type": "code",
   "execution_count": 7,
   "metadata": {},
   "outputs": [],
   "source": [
    "df = dd.read_csv(\"datasets/dummy/raw/*.csv\")"
   ]
  },
  {
   "cell_type": "code",
   "execution_count": 8,
   "metadata": {},
   "outputs": [
    {
     "name": "stdout",
     "output_type": "stream",
     "text": [
      "CPU times: user 17.5 ms, sys: 363 µs, total: 17.8 ms\n",
      "Wall time: 17.1 ms\n"
     ]
    }
   ],
   "source": [
    "%%time\n",
    "out = df.groupby(\"id\")[\"value1\"].mean()"
   ]
  },
  {
   "cell_type": "code",
   "execution_count": 9,
   "metadata": {},
   "outputs": [
    {
     "data": {
      "text/plain": [
       "Dask Series Structure:\n",
       "npartitions=1\n",
       "    float64\n",
       "        ...\n",
       "Name: value1, dtype: float64\n",
       "Dask Name: truediv, 213 tasks"
      ]
     },
     "execution_count": 9,
     "metadata": {},
     "output_type": "execute_result"
    }
   ],
   "source": [
    "out"
   ]
  },
  {
   "cell_type": "code",
   "execution_count": 10,
   "metadata": {},
   "outputs": [
    {
     "name": "stdout",
     "output_type": "stream",
     "text": [
      "CPU times: user 2.19 s, sys: 209 ms, total: 2.4 s\n",
      "Wall time: 11.8 s\n"
     ]
    }
   ],
   "source": [
    "%%time\n",
    "out = out.compute()"
   ]
  },
  {
   "cell_type": "markdown",
   "metadata": {},
   "source": [
    "## Convert to parquet"
   ]
  },
  {
   "cell_type": "code",
   "execution_count": 13,
   "metadata": {},
   "outputs": [],
   "source": [
    "jobs = []\n",
    "fldr_in = \"datasets/dummy/raw\"\n",
    "for (dirpath, dirnames, filenames) in os.walk(fldr_in):\n",
    "    if len(filenames) > 0:\n",
    "        jobs += [os.path.join(dirpath, fn)\n",
    "                 for fn in filenames]\n",
    "jobs = sorted(jobs)"
   ]
  },
  {
   "cell_type": "code",
   "execution_count": 14,
   "metadata": {},
   "outputs": [
    {
     "data": {
      "text/plain": [
       "['datasets/dummy/raw/file_00.csv',\n",
       " 'datasets/dummy/raw/file_01.csv',\n",
       " 'datasets/dummy/raw/file_02.csv',\n",
       " 'datasets/dummy/raw/file_03.csv',\n",
       " 'datasets/dummy/raw/file_04.csv']"
      ]
     },
     "execution_count": 14,
     "metadata": {},
     "output_type": "execute_result"
    }
   ],
   "source": [
    "jobs[:5]"
   ]
  },
  {
   "cell_type": "code",
   "execution_count": 19,
   "metadata": {},
   "outputs": [],
   "source": [
    "fldr_out = \"datasets/dummy/raw_parquet\"\n",
    "os.makedirs(fldr_out, exist_ok=True)"
   ]
  },
  {
   "cell_type": "code",
   "execution_count": 20,
   "metadata": {},
   "outputs": [],
   "source": [
    "@delayed\n",
    "def convert2parquet(fn, fldr_in, fldr_out):\n",
    "    fn_out = fn.replace(fldr_in, fldr_out)\\\n",
    "               .replace(\".csv\", \".parquet\")\n",
    "    df = pd.read_csv(fn)\n",
    "    df.to_parquet(fn_out, index=False)"
   ]
  },
  {
   "cell_type": "code",
   "execution_count": 21,
   "metadata": {},
   "outputs": [
    {
     "name": "stdout",
     "output_type": "stream",
     "text": [
      "CPU times: user 1.39 s, sys: 127 ms, total: 1.52 s\n",
      "Wall time: 10.6 s\n"
     ]
    }
   ],
   "source": [
    "%%time\n",
    "to_process = [convert2parquet(fn, fldr_in, fldr_out) for fn in jobs]\n",
    "out = compute(to_process)"
   ]
  },
  {
   "cell_type": "markdown",
   "metadata": {},
   "source": [
    "## Aggregate 2"
   ]
  },
  {
   "cell_type": "code",
   "execution_count": 26,
   "metadata": {},
   "outputs": [
    {
     "name": "stdout",
     "output_type": "stream",
     "text": [
      "CPU times: user 47.6 ms, sys: 0 ns, total: 47.6 ms\n",
      "Wall time: 50.7 ms\n"
     ]
    }
   ],
   "source": [
    "%%time\n",
    "df = dd.read_parquet(\"datasets/dummy/raw_parquet/\",\n",
    "                     columns=[\"id\", \"value1\"])"
   ]
  },
  {
   "cell_type": "code",
   "execution_count": 29,
   "metadata": {},
   "outputs": [
    {
     "data": {
      "text/html": [
       "<div><strong>Dask DataFrame Structure:</strong></div>\n",
       "<div>\n",
       "<style scoped>\n",
       "    .dataframe tbody tr th:only-of-type {\n",
       "        vertical-align: middle;\n",
       "    }\n",
       "\n",
       "    .dataframe tbody tr th {\n",
       "        vertical-align: top;\n",
       "    }\n",
       "\n",
       "    .dataframe thead th {\n",
       "        text-align: right;\n",
       "    }\n",
       "</style>\n",
       "<table border=\"1\" class=\"dataframe\">\n",
       "  <thead>\n",
       "    <tr style=\"text-align: right;\">\n",
       "      <th></th>\n",
       "      <th>id</th>\n",
       "      <th>value1</th>\n",
       "    </tr>\n",
       "    <tr>\n",
       "      <th>npartitions=20</th>\n",
       "      <th></th>\n",
       "      <th></th>\n",
       "    </tr>\n",
       "  </thead>\n",
       "  <tbody>\n",
       "    <tr>\n",
       "      <th></th>\n",
       "      <td>int64</td>\n",
       "      <td>float64</td>\n",
       "    </tr>\n",
       "    <tr>\n",
       "      <th></th>\n",
       "      <td>...</td>\n",
       "      <td>...</td>\n",
       "    </tr>\n",
       "    <tr>\n",
       "      <th>...</th>\n",
       "      <td>...</td>\n",
       "      <td>...</td>\n",
       "    </tr>\n",
       "    <tr>\n",
       "      <th></th>\n",
       "      <td>...</td>\n",
       "      <td>...</td>\n",
       "    </tr>\n",
       "    <tr>\n",
       "      <th></th>\n",
       "      <td>...</td>\n",
       "      <td>...</td>\n",
       "    </tr>\n",
       "  </tbody>\n",
       "</table>\n",
       "</div>\n",
       "<div>Dask Name: read-parquet, 20 tasks</div>"
      ],
      "text/plain": [
       "Dask DataFrame Structure:\n",
       "                   id   value1\n",
       "npartitions=20                \n",
       "                int64  float64\n",
       "                  ...      ...\n",
       "...               ...      ...\n",
       "                  ...      ...\n",
       "                  ...      ...\n",
       "Dask Name: read-parquet, 20 tasks"
      ]
     },
     "execution_count": 29,
     "metadata": {},
     "output_type": "execute_result"
    }
   ],
   "source": [
    "df"
   ]
  },
  {
   "cell_type": "code",
   "execution_count": 30,
   "metadata": {},
   "outputs": [
    {
     "name": "stdout",
     "output_type": "stream",
     "text": [
      "CPU times: user 524 ms, sys: 41.5 ms, total: 565 ms\n",
      "Wall time: 1.44 s\n"
     ]
    }
   ],
   "source": [
    "%%time\n",
    "out = df.groupby(\"id\")[\"value1\"].mean()\n",
    "out = out.compute()"
   ]
  },
  {
   "cell_type": "code",
   "execution_count": 33,
   "metadata": {},
   "outputs": [
    {
     "name": "stdout",
     "output_type": "stream",
     "text": [
      "1.5G\tdatasets/dummy/raw/\n",
      "649M\tdatasets/dummy/raw_parquet/\n"
     ]
    }
   ],
   "source": [
    "%%bash\n",
    "du -h datasets/dummy/raw/\n",
    "du -h datasets/dummy/raw_parquet/"
   ]
  },
  {
   "cell_type": "code",
   "execution_count": 34,
   "metadata": {},
   "outputs": [
    {
     "name": "stdout",
     "output_type": "stream",
     "text": [
      "CPU times: user 64.5 ms, sys: 0 ns, total: 64.5 ms\n",
      "Wall time: 62.8 ms\n"
     ]
    }
   ],
   "source": [
    "%%time\n",
    "df = dd.read_parquet(\"datasets/dummy/raw_parquet/\",\n",
    "                     columns=[\"value1\"])"
   ]
  },
  {
   "cell_type": "code",
   "execution_count": 36,
   "metadata": {},
   "outputs": [],
   "source": [
    "out = df[\"value1\"].sum()"
   ]
  },
  {
   "cell_type": "code",
   "execution_count": 38,
   "metadata": {},
   "outputs": [
    {
     "data": {
      "image/png": "[encoded data removed]",
      "text/plain": [
       "<IPython.core.display.Image object>"
      ]
     },
     "execution_count": 38,
     "metadata": {},
     "output_type": "execute_result"
    }
   ],
   "source": [
    "out.visualize()"
   ]
  },
  {
   "cell_type": "markdown",
   "metadata": {},
   "source": [
    "## Add column"
   ]
  },
  {
   "cell_type": "code",
   "execution_count": 2,
   "metadata": {},
   "outputs": [
    {
     "name": "stdout",
     "output_type": "stream",
     "text": [
      "CPU times: user 59.6 ms, sys: 4.61 ms, total: 64.2 ms\n",
      "Wall time: 62.9 ms\n"
     ]
    }
   ],
   "source": [
    "%%time\n",
    "df = dd.read_parquet(\"datasets/dummy/raw_parquet/\")"
   ]
  },
  {
   "cell_type": "code",
   "execution_count": 3,
   "metadata": {},
   "outputs": [],
   "source": [
    "df[\"sum\"] = df[\"value\"]+ df[\"value1\"]"
   ]
  },
  {
   "cell_type": "code",
   "execution_count": 4,
   "metadata": {},
   "outputs": [
    {
     "data": {
      "text/html": [
       "<div>\n",
       "<style scoped>\n",
       "    .dataframe tbody tr th:only-of-type {\n",
       "        vertical-align: middle;\n",
       "    }\n",
       "\n",
       "    .dataframe tbody tr th {\n",
       "        vertical-align: top;\n",
       "    }\n",
       "\n",
       "    .dataframe thead th {\n",
       "        text-align: right;\n",
       "    }\n",
       "</style>\n",
       "<table border=\"1\" class=\"dataframe\">\n",
       "  <thead>\n",
       "    <tr style=\"text-align: right;\">\n",
       "      <th></th>\n",
       "      <th>id</th>\n",
       "      <th>value</th>\n",
       "      <th>lat</th>\n",
       "      <th>lon</th>\n",
       "      <th>value1</th>\n",
       "      <th>sum</th>\n",
       "    </tr>\n",
       "  </thead>\n",
       "  <tbody>\n",
       "    <tr>\n",
       "      <th>0</th>\n",
       "      <td>80</td>\n",
       "      <td>0.772008</td>\n",
       "      <td>-34.769415</td>\n",
       "      <td>-172.250288</td>\n",
       "      <td>61.760662</td>\n",
       "      <td>62.532670</td>\n",
       "    </tr>\n",
       "    <tr>\n",
       "      <th>1</th>\n",
       "      <td>85</td>\n",
       "      <td>0.227687</td>\n",
       "      <td>-36.786150</td>\n",
       "      <td>60.872459</td>\n",
       "      <td>19.353404</td>\n",
       "      <td>19.581091</td>\n",
       "    </tr>\n",
       "    <tr>\n",
       "      <th>2</th>\n",
       "      <td>97</td>\n",
       "      <td>0.676615</td>\n",
       "      <td>74.933042</td>\n",
       "      <td>114.004453</td>\n",
       "      <td>65.631618</td>\n",
       "      <td>66.308233</td>\n",
       "    </tr>\n",
       "    <tr>\n",
       "      <th>3</th>\n",
       "      <td>72</td>\n",
       "      <td>0.557655</td>\n",
       "      <td>15.397291</td>\n",
       "      <td>-21.091304</td>\n",
       "      <td>40.151161</td>\n",
       "      <td>40.708816</td>\n",
       "    </tr>\n",
       "    <tr>\n",
       "      <th>4</th>\n",
       "      <td>14</td>\n",
       "      <td>0.196189</td>\n",
       "      <td>52.658036</td>\n",
       "      <td>-136.913529</td>\n",
       "      <td>2.746646</td>\n",
       "      <td>2.942834</td>\n",
       "    </tr>\n",
       "  </tbody>\n",
       "</table>\n",
       "</div>"
      ],
      "text/plain": [
       "   id     value        lat         lon     value1        sum\n",
       "0  80  0.772008 -34.769415 -172.250288  61.760662  62.532670\n",
       "1  85  0.227687 -36.786150   60.872459  19.353404  19.581091\n",
       "2  97  0.676615  74.933042  114.004453  65.631618  66.308233\n",
       "3  72  0.557655  15.397291  -21.091304  40.151161  40.708816\n",
       "4  14  0.196189  52.658036 -136.913529   2.746646   2.942834"
      ]
     },
     "execution_count": 4,
     "metadata": {},
     "output_type": "execute_result"
    }
   ],
   "source": [
    "df.head()"
   ]
  },
  {
   "cell_type": "code",
   "execution_count": 6,
   "metadata": {},
   "outputs": [
    {
     "name": "stdout",
     "output_type": "stream",
     "text": [
      "CPU times: user 1.34 s, sys: 113 ms, total: 1.46 s\n",
      "Wall time: 7.49 s\n"
     ]
    }
   ],
   "source": [
    "%%time\n",
    "df.to_parquet(\"datasets/dummy/out1\", write_index=False)"
   ]
  },
  {
   "cell_type": "markdown",
   "metadata": {},
   "source": [
    "## Conditional function"
   ]
  },
  {
   "cell_type": "code",
   "execution_count": 5,
   "metadata": {},
   "outputs": [],
   "source": [
    "def fun(row):\n",
    "    if row[\"lat\"]<0:\n",
    "        return row[\"value\"]\n",
    "    else:\n",
    "        return row[\"value1\"]"
   ]
  },
  {
   "cell_type": "markdown",
   "metadata": {},
   "source": [
    "### `apply` DON'T REPRODUCE!"
   ]
  },
  {
   "cell_type": "code",
   "execution_count": 4,
   "metadata": {},
   "outputs": [
    {
     "name": "stdout",
     "output_type": "stream",
     "text": [
      "CPU times: user 45.3 ms, sys: 0 ns, total: 45.3 ms\n",
      "Wall time: 45.8 ms\n"
     ]
    }
   ],
   "source": [
    "%%time\n",
    "df = dd.read_parquet(\"datasets/dummy/raw_parquet/\")"
   ]
  },
  {
   "cell_type": "code",
   "execution_count": 6,
   "metadata": {},
   "outputs": [],
   "source": [
    "df[\"a\"] = df.apply(fun, axis=1, meta=\"f8\")"
   ]
  },
  {
   "cell_type": "code",
   "execution_count": 7,
   "metadata": {},
   "outputs": [
    {
     "data": {
      "text/html": [
       "<div>\n",
       "<style scoped>\n",
       "    .dataframe tbody tr th:only-of-type {\n",
       "        vertical-align: middle;\n",
       "    }\n",
       "\n",
       "    .dataframe tbody tr th {\n",
       "        vertical-align: top;\n",
       "    }\n",
       "\n",
       "    .dataframe thead th {\n",
       "        text-align: right;\n",
       "    }\n",
       "</style>\n",
       "<table border=\"1\" class=\"dataframe\">\n",
       "  <thead>\n",
       "    <tr style=\"text-align: right;\">\n",
       "      <th></th>\n",
       "      <th>id</th>\n",
       "      <th>value</th>\n",
       "      <th>lat</th>\n",
       "      <th>lon</th>\n",
       "      <th>value1</th>\n",
       "      <th>a</th>\n",
       "    </tr>\n",
       "  </thead>\n",
       "  <tbody>\n",
       "    <tr>\n",
       "      <th>0</th>\n",
       "      <td>80</td>\n",
       "      <td>0.772008</td>\n",
       "      <td>-34.769415</td>\n",
       "      <td>-172.250288</td>\n",
       "      <td>61.760662</td>\n",
       "      <td>0.772008</td>\n",
       "    </tr>\n",
       "    <tr>\n",
       "      <th>1</th>\n",
       "      <td>85</td>\n",
       "      <td>0.227687</td>\n",
       "      <td>-36.786150</td>\n",
       "      <td>60.872459</td>\n",
       "      <td>19.353404</td>\n",
       "      <td>0.227687</td>\n",
       "    </tr>\n",
       "    <tr>\n",
       "      <th>2</th>\n",
       "      <td>97</td>\n",
       "      <td>0.676615</td>\n",
       "      <td>74.933042</td>\n",
       "      <td>114.004453</td>\n",
       "      <td>65.631618</td>\n",
       "      <td>65.631618</td>\n",
       "    </tr>\n",
       "    <tr>\n",
       "      <th>3</th>\n",
       "      <td>72</td>\n",
       "      <td>0.557655</td>\n",
       "      <td>15.397291</td>\n",
       "      <td>-21.091304</td>\n",
       "      <td>40.151161</td>\n",
       "      <td>40.151161</td>\n",
       "    </tr>\n",
       "    <tr>\n",
       "      <th>4</th>\n",
       "      <td>14</td>\n",
       "      <td>0.196189</td>\n",
       "      <td>52.658036</td>\n",
       "      <td>-136.913529</td>\n",
       "      <td>2.746646</td>\n",
       "      <td>2.746646</td>\n",
       "    </tr>\n",
       "  </tbody>\n",
       "</table>\n",
       "</div>"
      ],
      "text/plain": [
       "   id     value        lat         lon     value1          a\n",
       "0  80  0.772008 -34.769415 -172.250288  61.760662   0.772008\n",
       "1  85  0.227687 -36.786150   60.872459  19.353404   0.227687\n",
       "2  97  0.676615  74.933042  114.004453  65.631618  65.631618\n",
       "3  72  0.557655  15.397291  -21.091304  40.151161  40.151161\n",
       "4  14  0.196189  52.658036 -136.913529   2.746646   2.746646"
      ]
     },
     "execution_count": 7,
     "metadata": {},
     "output_type": "execute_result"
    }
   ],
   "source": [
    "df.head()"
   ]
  },
  {
   "cell_type": "code",
   "execution_count": 8,
   "metadata": {},
   "outputs": [
    {
     "name": "stdout",
     "output_type": "stream",
     "text": [
      "CPU times: user 28.5 s, sys: 2.94 s, total: 31.4 s\n",
      "Wall time: 5min 54s\n"
     ]
    }
   ],
   "source": [
    "%%time\n",
    "df.to_parquet(\"datasets/dummy/out2\", write_index=False)"
   ]
  },
  {
   "cell_type": "code",
   "execution_count": 9,
   "metadata": {},
   "outputs": [],
   "source": [
    "df = pd.read_parquet(\"datasets/dummy/out2\")"
   ]
  },
  {
   "cell_type": "code",
   "execution_count": 10,
   "metadata": {},
   "outputs": [
    {
     "data": {
      "text/html": [
       "<div>\n",
       "<style scoped>\n",
       "    .dataframe tbody tr th:only-of-type {\n",
       "        vertical-align: middle;\n",
       "    }\n",
       "\n",
       "    .dataframe tbody tr th {\n",
       "        vertical-align: top;\n",
       "    }\n",
       "\n",
       "    .dataframe thead th {\n",
       "        text-align: right;\n",
       "    }\n",
       "</style>\n",
       "<table border=\"1\" class=\"dataframe\">\n",
       "  <thead>\n",
       "    <tr style=\"text-align: right;\">\n",
       "      <th></th>\n",
       "      <th>id</th>\n",
       "      <th>value</th>\n",
       "      <th>lat</th>\n",
       "      <th>lon</th>\n",
       "      <th>value1</th>\n",
       "      <th>a</th>\n",
       "    </tr>\n",
       "  </thead>\n",
       "  <tbody>\n",
       "    <tr>\n",
       "      <th>0</th>\n",
       "      <td>80</td>\n",
       "      <td>0.772008</td>\n",
       "      <td>-34.769415</td>\n",
       "      <td>-172.250288</td>\n",
       "      <td>61.760662</td>\n",
       "      <td>0.772008</td>\n",
       "    </tr>\n",
       "    <tr>\n",
       "      <th>1</th>\n",
       "      <td>85</td>\n",
       "      <td>0.227687</td>\n",
       "      <td>-36.786150</td>\n",
       "      <td>60.872459</td>\n",
       "      <td>19.353404</td>\n",
       "      <td>0.227687</td>\n",
       "    </tr>\n",
       "    <tr>\n",
       "      <th>2</th>\n",
       "      <td>97</td>\n",
       "      <td>0.676615</td>\n",
       "      <td>74.933042</td>\n",
       "      <td>114.004453</td>\n",
       "      <td>65.631618</td>\n",
       "      <td>65.631618</td>\n",
       "    </tr>\n",
       "    <tr>\n",
       "      <th>3</th>\n",
       "      <td>72</td>\n",
       "      <td>0.557655</td>\n",
       "      <td>15.397291</td>\n",
       "      <td>-21.091304</td>\n",
       "      <td>40.151161</td>\n",
       "      <td>40.151161</td>\n",
       "    </tr>\n",
       "    <tr>\n",
       "      <th>4</th>\n",
       "      <td>14</td>\n",
       "      <td>0.196189</td>\n",
       "      <td>52.658036</td>\n",
       "      <td>-136.913529</td>\n",
       "      <td>2.746646</td>\n",
       "      <td>2.746646</td>\n",
       "    </tr>\n",
       "  </tbody>\n",
       "</table>\n",
       "</div>"
      ],
      "text/plain": [
       "   id     value        lat         lon     value1          a\n",
       "0  80  0.772008 -34.769415 -172.250288  61.760662   0.772008\n",
       "1  85  0.227687 -36.786150   60.872459  19.353404   0.227687\n",
       "2  97  0.676615  74.933042  114.004453  65.631618  65.631618\n",
       "3  72  0.557655  15.397291  -21.091304  40.151161  40.151161\n",
       "4  14  0.196189  52.658036 -136.913529   2.746646   2.746646"
      ]
     },
     "execution_count": 10,
     "metadata": {},
     "output_type": "execute_result"
    }
   ],
   "source": [
    "df.head()"
   ]
  },
  {
   "cell_type": "markdown",
   "metadata": {},
   "source": [
    "### `map_partition` DON'T REPRODUCE"
   ]
  },
  {
   "cell_type": "code",
   "execution_count": 11,
   "metadata": {},
   "outputs": [
    {
     "name": "stdout",
     "output_type": "stream",
     "text": [
      "CPU times: user 47.5 ms, sys: 2.54 ms, total: 50 ms\n",
      "Wall time: 50 ms\n"
     ]
    }
   ],
   "source": [
    "%%time\n",
    "df = dd.read_parquet(\"datasets/dummy/raw_parquet/\")"
   ]
  },
  {
   "cell_type": "code",
   "execution_count": 25,
   "metadata": {},
   "outputs": [
    {
     "data": {
      "text/plain": [
       "{'id': dtype('int64'),\n",
       " 'value': dtype('float64'),\n",
       " 'lat': dtype('float64'),\n",
       " 'lon': dtype('float64'),\n",
       " 'value1': dtype('float64')}"
      ]
     },
     "execution_count": 25,
     "metadata": {},
     "output_type": "execute_result"
    }
   ],
   "source": [
    "df.dtypes.to_dict()"
   ]
  },
  {
   "cell_type": "code",
   "execution_count": 28,
   "metadata": {},
   "outputs": [],
   "source": [
    "df = df.map_partitions(lambda x: x.assign(a=x.apply(fun, axis=1)),\n",
    "                       meta={'id': 'i8',\n",
    "                             'value': 'f8',\n",
    "                             'lat': 'f8',\n",
    "                             'lon': 'f8',\n",
    "                             'value1': 'f8',\n",
    "                             'a':'f8'})"
   ]
  },
  {
   "cell_type": "code",
   "execution_count": 30,
   "metadata": {},
   "outputs": [
    {
     "name": "stdout",
     "output_type": "stream",
     "text": [
      "CPU times: user 32.7 s, sys: 1.01 s, total: 33.7 s\n",
      "Wall time: 6min 6s\n"
     ]
    }
   ],
   "source": [
    "%%time\n",
    "df.to_parquet(\"datasets/dummy/out3\", write_index=False)"
   ]
  },
  {
   "cell_type": "markdown",
   "metadata": {},
   "source": [
    "### Use mask"
   ]
  },
  {
   "cell_type": "code",
   "execution_count": 53,
   "metadata": {},
   "outputs": [
    {
     "name": "stdout",
     "output_type": "stream",
     "text": [
      "CPU times: user 42.1 ms, sys: 3.22 ms, total: 45.3 ms\n",
      "Wall time: 44 ms\n"
     ]
    }
   ],
   "source": [
    "%%time\n",
    "df = dd.read_parquet(\"datasets/dummy/raw_parquet/\")"
   ]
  },
  {
   "cell_type": "code",
   "execution_count": 54,
   "metadata": {},
   "outputs": [],
   "source": [
    "df[\"a\"] = (df[\"lat\"]<0)*df[\"value\"]+(df[\"lat\"]>=0)*df[\"value1\"]"
   ]
  },
  {
   "cell_type": "code",
   "execution_count": 55,
   "metadata": {},
   "outputs": [
    {
     "name": "stdout",
     "output_type": "stream",
     "text": [
      "CPU times: user 1.24 s, sys: 104 ms, total: 1.34 s\n",
      "Wall time: 6.03 s\n"
     ]
    }
   ],
   "source": [
    "%%time\n",
    "df.to_parquet(\"datasets/dummy/out4\", write_index=False)"
   ]
  },
  {
   "cell_type": "code",
   "execution_count": 56,
   "metadata": {},
   "outputs": [
    {
     "data": {
      "text/html": [
       "<div>\n",
       "<style scoped>\n",
       "    .dataframe tbody tr th:only-of-type {\n",
       "        vertical-align: middle;\n",
       "    }\n",
       "\n",
       "    .dataframe tbody tr th {\n",
       "        vertical-align: top;\n",
       "    }\n",
       "\n",
       "    .dataframe thead th {\n",
       "        text-align: right;\n",
       "    }\n",
       "</style>\n",
       "<table border=\"1\" class=\"dataframe\">\n",
       "  <thead>\n",
       "    <tr style=\"text-align: right;\">\n",
       "      <th></th>\n",
       "      <th>id</th>\n",
       "      <th>value</th>\n",
       "      <th>lat</th>\n",
       "      <th>lon</th>\n",
       "      <th>value1</th>\n",
       "      <th>a</th>\n",
       "    </tr>\n",
       "  </thead>\n",
       "  <tbody>\n",
       "    <tr>\n",
       "      <th>0</th>\n",
       "      <td>80</td>\n",
       "      <td>0.772008</td>\n",
       "      <td>-34.769415</td>\n",
       "      <td>-172.250288</td>\n",
       "      <td>61.760662</td>\n",
       "      <td>0.772008</td>\n",
       "    </tr>\n",
       "    <tr>\n",
       "      <th>1</th>\n",
       "      <td>85</td>\n",
       "      <td>0.227687</td>\n",
       "      <td>-36.786150</td>\n",
       "      <td>60.872459</td>\n",
       "      <td>19.353404</td>\n",
       "      <td>0.227687</td>\n",
       "    </tr>\n",
       "    <tr>\n",
       "      <th>2</th>\n",
       "      <td>97</td>\n",
       "      <td>0.676615</td>\n",
       "      <td>74.933042</td>\n",
       "      <td>114.004453</td>\n",
       "      <td>65.631618</td>\n",
       "      <td>65.631618</td>\n",
       "    </tr>\n",
       "    <tr>\n",
       "      <th>3</th>\n",
       "      <td>72</td>\n",
       "      <td>0.557655</td>\n",
       "      <td>15.397291</td>\n",
       "      <td>-21.091304</td>\n",
       "      <td>40.151161</td>\n",
       "      <td>40.151161</td>\n",
       "    </tr>\n",
       "    <tr>\n",
       "      <th>4</th>\n",
       "      <td>14</td>\n",
       "      <td>0.196189</td>\n",
       "      <td>52.658036</td>\n",
       "      <td>-136.913529</td>\n",
       "      <td>2.746646</td>\n",
       "      <td>2.746646</td>\n",
       "    </tr>\n",
       "  </tbody>\n",
       "</table>\n",
       "</div>"
      ],
      "text/plain": [
       "   id     value        lat         lon     value1          a\n",
       "0  80  0.772008 -34.769415 -172.250288  61.760662   0.772008\n",
       "1  85  0.227687 -36.786150   60.872459  19.353404   0.227687\n",
       "2  97  0.676615  74.933042  114.004453  65.631618  65.631618\n",
       "3  72  0.557655  15.397291  -21.091304  40.151161  40.151161\n",
       "4  14  0.196189  52.658036 -136.913529   2.746646   2.746646"
      ]
     },
     "execution_count": 56,
     "metadata": {},
     "output_type": "execute_result"
    }
   ],
   "source": [
    "df.head()"
   ]
  },
  {
   "cell_type": "markdown",
   "metadata": {},
   "source": [
    "## Again `map_partition`"
   ]
  },
  {
   "cell_type": "code",
   "execution_count": 62,
   "metadata": {},
   "outputs": [
    {
     "name": "stdout",
     "output_type": "stream",
     "text": [
      "CPU times: user 45.1 ms, sys: 565 µs, total: 45.6 ms\n",
      "Wall time: 43.1 ms\n"
     ]
    }
   ],
   "source": [
    "%%time\n",
    "df = dd.read_parquet(\"datasets/dummy/raw_parquet/\")"
   ]
  },
  {
   "cell_type": "code",
   "execution_count": 63,
   "metadata": {},
   "outputs": [
    {
     "name": "stdout",
     "output_type": "stream",
     "text": [
      "CPU times: user 18.5 ms, sys: 385 µs, total: 18.9 ms\n",
      "Wall time: 18.3 ms\n"
     ]
    }
   ],
   "source": [
    "%%time\n",
    "df = df.map_partitions(lambda x: x.assign(lat_rad=np.deg2rad(x['lat'].values),\n",
    "                                          lon_rad=np.deg2rad(x['lon'].values)),\n",
    "\n",
    "                        meta={'id': 'i8',\n",
    "                             'value': 'f8',\n",
    "                             'lat': 'f8',\n",
    "                             'lon': 'f8',\n",
    "                             'value1': 'f8',\n",
    "                             'lat_rad': 'f8',\n",
    "                             'lon_rad': 'f8'})"
   ]
  },
  {
   "cell_type": "code",
   "execution_count": 64,
   "metadata": {},
   "outputs": [
    {
     "name": "stdout",
     "output_type": "stream",
     "text": [
      "CPU times: user 1.25 s, sys: 120 ms, total: 1.37 s\n",
      "Wall time: 6.47 s\n"
     ]
    }
   ],
   "source": [
    "%%time\n",
    "df.to_parquet(\"datasets/dummy/out5\", write_index=False)"
   ]
  },
  {
   "cell_type": "markdown",
   "metadata": {},
   "source": [
    "# About Scheme"
   ]
  },
  {
   "cell_type": "markdown",
   "metadata": {},
   "source": [
    "# Costs\n",
    "\n",
    "* 2000 AWS lambda with 3GB RAM running 3 minutes each cost ~17.62 USD\n",
    "* 2000 n1-standard-1 on GCP with 3.75GB RAM running 3 minutes each cosr ~4.74 USD\n"
   ]
  },
  {
   "cell_type": "code",
   "execution_count": null,
   "metadata": {},
   "outputs": [],
   "source": []
  }
 ],
 "metadata": {
  "kernelspec": {
   "display_name": "pydata_stg",
   "language": "python",
   "name": "pydata_stg"
  },
  "language_info": {
   "codemirror_mode": {
    "name": "ipython",
    "version": 3
   },
   "file_extension": ".py",
   "mimetype": "text/x-python",
   "name": "python",
   "nbconvert_exporter": "python",
   "pygments_lexer": "ipython3",
   "version": "3.7.6"
  }
 },
 "nbformat": 4,
 "nbformat_minor": 4
}
